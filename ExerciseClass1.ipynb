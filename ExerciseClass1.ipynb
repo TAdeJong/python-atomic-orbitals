{
 "cells": [
  {
   "cell_type": "markdown",
   "metadata": {},
   "source": [
    "# Exercise class 1 BBM: Solutions\n",
    "\n",
    "A different kind of solutions as you might be used to: an attempt to solve all exercises using `sympy` and `scipy`. Interactive version is available at https://mybinder.org/v2/gh/TAdeJong/python-atomic-orbitals/master. \n",
    "\n",
    "Before we start with the actual solutions, we import a bunch of things:"
   ]
  },
  {
   "cell_type": "code",
   "execution_count": 1,
   "metadata": {},
   "outputs": [],
   "source": [
    "import numpy as np\n",
    "import matplotlib.pyplot as plt\n",
    "import matplotlib\n",
    "%matplotlib inline\n",
    "\n",
    "#Pretty printing of sympy functions\n",
    "from IPython.display import display, Math\n",
    "#Pretty printing of tables (Somewhat overkill, but so what)\n",
    "import pandas as pd\n",
    "\n",
    "from sympy.physics.hydrogen import R_nl\n",
    "from sympy import var, simplify\n",
    "from sympy import init_printing, latex\n",
    "from sympy.utilities.lambdify import lambdify\n",
    "from sympy import integrate, oo\n",
    "import scipy.constants as sc\n",
    "from scipy.constants import physical_constants as constants"
   ]
  },
  {
   "cell_type": "code",
   "execution_count": 2,
   "metadata": {},
   "outputs": [],
   "source": [
    "init_printing()\n",
    "\n",
    "# electronVolt is nice to have on hand\n",
    "eV = constants[\"electron volt\"][0]\n",
    "\n",
    "# We set up both common symbols as well as a dictionary to easily subsitute later on\n",
    "var('n l r m_e m_c m_p alpha c h hbar Z')\n",
    "subs = {m_e: sc.m_e, m_p: sc.m_p, alpha:sc.alpha, c: sc.c, h: sc.h, hbar: sc.hbar}"
   ]
  },
  {
   "cell_type": "markdown",
   "metadata": {},
   "source": [
    "## Exercise 1\n",
    "As the only difference between Hydrogen and Deuterium is the mass of the core, the reduced mass difference should yield only a minor difference in wavelength. We define a reduced mass `mu`, an energy function `E_nl`, a wavelength conversion from energy `wavelength(energy)` and a energy difference `dE`. As all symbols used are `sympy` vars, these remain symbolic functions until we substitute in values."
   ]
  },
  {
   "cell_type": "code",
   "execution_count": 3,
   "metadata": {},
   "outputs": [
    {
     "data": {
      "text/latex": [
       "$$E_{Balmer} = \\frac{0.0694444444444444 \\alpha^{2} c^{2} m_{c} m_{e}}{m_{c} + m_{e}}$$"
      ],
      "text/plain": [
       "<IPython.core.display.Math object>"
      ]
     },
     "metadata": {},
     "output_type": "display_data"
    },
    {
     "data": {
      "image/png": "[encoded data removed]",
      "text/latex": [
       "$$\\frac{7.2 h}{\\alpha^{2} c m_{p}}$$"
      ],
      "text/plain": [
       " 7.2⋅h \n",
       "───────\n",
       " 2     \n",
       "α ⋅c⋅mₚ"
      ]
     },
     "metadata": {},
     "output_type": "display_data"
    },
    {
     "name": "stdout",
     "output_type": "stream",
     "text": [
      "Wavelength difference: 0.178664956791962 nm\n"
     ]
    }
   ],
   "source": [
    "\n",
    "\n",
    "# Reduced mass for an electron with mass m_e and a core of mass m_c\n",
    "mu = m_e*m_c / (m_e+m_c)\n",
    "\n",
    "def E_nl(n, mu=mu,Z=1):\n",
    "    return Z**2 * (alpha**2 * mu * c**2 / 2) / n**2\n",
    "def dE(n_1, n_2, mu=mu, Z=1):\n",
    "    \"\"\"Energy difference between twoE_n states for a given reduced mass and Z\"\"\"\n",
    "    return Z**2 * (alpha**2 * mu * c**2 / 2)*(1/n_1**2 - 1/n_2**2)\n",
    "\n",
    "def wavelength(energy):\n",
    "    return h*c/energy\n",
    "\n",
    "E_Balmer = dE(2, 3)\n",
    "display(Math(\"E_{{Balmer}} = {}\".format(latex(E_Balmer))))\n",
    "l_H = wavelength(E_Balmer).subs({m_c: m_p})\n",
    "l_D = wavelength(E_Balmer).subs({m_c: 2*m_p})\n",
    "display(simplify(l_H - l_D))\n",
    "print(\"Wavelength difference: {} nm\".format((l_H-l_D).evalf(subs=subs)*1e9))"
   ]
  },
  {
   "cell_type": "markdown",
   "metadata": {},
   "source": [
    "## Exercise 2\n",
    "Helium has two protons, so twice the charge. So mass differences are of relatively minor effect now, the difference in electrostatic potential has the major influence. \n",
    "The Hydrogen lines listed are the Balmer lines, so $n \\to 2$. \n",
    "\n",
    "As we have: \\\\( E_{nl}(Z) = Z^2 \\frac{E_1}{n^2} \\\\), the factor $Z^2=4$ for Helium can be compensated by taking a twice as high energy level, so $2n \\to 4$, yielding lines in the same energy range.\n",
    "However, odd initial states are also possible, yielding additional lines inbetween the existing lines.\n",
    "\n",
    "A small remaining difference in wavelength can be explained by the core mass difference."
   ]
  },
  {
   "cell_type": "code",
   "execution_count": 4,
   "metadata": {},
   "outputs": [
    {
     "data": {
      "text/latex": [
       "$$\\lambda_H = \\frac{2 h n^{2} \\left(m_{e} + m_{p}\\right)}{\\alpha^{2} c m_{e} m_{p} \\left(0.25 n^{2} - 1\\right)}$$"
      ],
      "text/plain": [
       "<IPython.core.display.Math object>"
      ]
     },
     "metadata": {},
     "output_type": "display_data"
    },
    {
     "data": {
      "text/latex": [
       "$$\\lambda_{He^+} = \\frac{h n^{2} \\left(m_{e} + 4 m_{p}\\right)}{8 \\alpha^{2} c m_{e} m_{p} \\left(0.0625 n^{2} - 1\\right)}$$"
      ],
      "text/plain": [
       "<IPython.core.display.Math object>"
      ]
     },
     "metadata": {},
     "output_type": "display_data"
    },
    {
     "data": {
      "text/plain": [
       "{'H (nm)': array([656.46960616, 486.27378234, 434.17301994, 410.29350385]),\n",
       " 'He+ (nm)': array([656.20160872, 541.31109137, 486.07526572, 454.29342142,\n",
       "        433.99577296, 420.10790823, 410.12600545])}"
      ]
     },
     "metadata": {},
     "output_type": "display_data"
    }
   ],
   "source": [
    "l_H = simplify(wavelength(dE(2, n_2=var('n')))).subs({m_c: m_p})\n",
    "display(Math(\"\\lambda_H = {}\".format(latex(l_H))))\n",
    "l_He = simplify(wavelength(dE(4, n_2=var('n'), Z=2))).subs({m_c: 4*m_p})\n",
    "display(Math(\"\\lambda_{{He^+}} = {}\".format(latex(l_He))))\n",
    "\n",
    "# Make a dictionary with the resulting wavelengths: substitute values of constants and lambdify for the initial Energy level n\n",
    "data = {\"H (nm)\": lambdify(n, l_H.subs(subs) * 1e9)(np.arange(3,7)), \n",
    "        \"He+ (nm)\": lambdify(n, l_He.subs(subs) * 1e9)(np.arange(6,13))}\n",
    "display(data)"
   ]
  },
  {
   "cell_type": "markdown",
   "metadata": {},
   "source": [
    "## Exercise 3\n",
    "The (equivalent) Bohr radius $a_0$ is only dependent on the electrostatic potential $V(r) = -\\frac{e^2}{4\\pi \\epsilon_0}\\frac{1}{r}$, so we can calculate an equivalent Bohr radius for any single electron ion by substituting $e^2 \\to Ze^2$, or $\\alpha \\to Z\\alpha$ in the Bohr radius $a_0$. \n",
    "The same holds for the Bohr energy, but there it occurs quadratic."
   ]
  },
  {
   "cell_type": "code",
   "execution_count": 5,
   "metadata": {},
   "outputs": [
    {
     "data": {
      "text/latex": [
       "$$a_0 = \\frac{\\hbar}{Z \\alpha c m_{e}}$$"
      ],
      "text/plain": [
       "<IPython.core.display.Math object>"
      ]
     },
     "metadata": {},
     "output_type": "display_data"
    },
    {
     "data": {
      "text/latex": [
       "$$a_0(Z=91) = 0.000581513418186603 nm$$"
      ],
      "text/plain": [
       "<IPython.core.display.Math object>"
      ]
     },
     "metadata": {},
     "output_type": "display_data"
    }
   ],
   "source": [
    "a_0 = hbar/(Z*alpha*m_e*c)\n",
    "display(Math(\"a_0 = {}\".format(latex(a_0))))\n",
    "display(Math(\"a_0(Z=91) = {} nm\".format(a_0.subs({**subs, Z: 91})*1e9)))"
   ]
  },
  {
   "cell_type": "markdown",
   "metadata": {},
   "source": [
    "For relativistic effects to be negligible, the energy of a level should be negligible compared to the rest mass of the electron. We look at the $n=2 \\to n=1$ transition here:"
   ]
  },
  {
   "cell_type": "code",
   "execution_count": 6,
   "metadata": {},
   "outputs": [
    {
     "data": {
      "image/png": "[encoded data removed]",
      "text/latex": [
       "$$\\frac{0.375 Z^{2} \\alpha^{2} c^{2} m_{c} m_{e}}{m_{c} + m_{e}}$$"
      ],
      "text/plain": [
       "       2  2  2       \n",
       "0.375⋅Z ⋅α ⋅c ⋅m_c⋅mₑ\n",
       "─────────────────────\n",
       "       m_c + mₑ      "
      ]
     },
     "metadata": {},
     "output_type": "display_data"
    },
    {
     "data": {
      "image/png": "[encoded data removed]",
      "text/latex": [
       "$$\\frac{729763.125 \\alpha^{2} c^{2} m_{e} m_{p}}{m_{e} + 235 m_{p}}$$"
      ],
      "text/plain": [
       "            2  2      \n",
       "729763.125⋅α ⋅c ⋅mₑ⋅mₚ\n",
       "──────────────────────\n",
       "     mₑ + 235⋅mₚ      "
      ]
     },
     "metadata": {},
     "output_type": "display_data"
    },
    {
     "data": {
      "text/latex": [
       "$$\\lambda_U = \\frac{1.37030765976289 \\cdot 10^{-6} h \\left(m_{e} + 235 m_{p}\\right)}{\\alpha^{2} c m_{e} m_{p}} = 0.0146724495787859nm$$"
      ],
      "text/plain": [
       "<IPython.core.display.Math object>"
      ]
     },
     "metadata": {},
     "output_type": "display_data"
    },
    {
     "data": {
      "text/latex": [
       "$$m_e = 510998.946268610eV,\\ E_{2 \\to1} = 84501.3620463685eV$$"
      ],
      "text/plain": [
       "<IPython.core.display.Math object>"
      ]
     },
     "metadata": {},
     "output_type": "display_data"
    },
    {
     "data": {
      "text/plain": [
       "'A factor of only order 6 means relativistic effects are definitely not negligible here.'"
      ]
     },
     "metadata": {},
     "output_type": "display_data"
    },
    {
     "data": {
      "text/plain": [
       "'Just for fun we check how large the mass effect is here, by comparing with the case $m_c=1$: 84455.5619433155eV'"
      ]
     },
     "metadata": {},
     "output_type": "display_data"
    }
   ],
   "source": [
    "dE_U = dE(1,2,Z=91).subs({m_c: 235*m_p})\n",
    "display(dE(1,2,Z=Z), dE_U)\n",
    "l_U = simplify(wavelength(dE_U))\n",
    "display(Math(\"\\lambda_U = {} = {}nm\".format(latex(l_U), l_U.subs(subs)*1e9)))\n",
    "# Let's compare with the rest mass (equivalent energy) of the electron to see if this is a relativisticly relevant energy: \n",
    "display(Math(\"m_e = {}eV,\\ E_{{2 \\\\to1}} = {}eV\".format((m_e*c**2).subs(subs)/eV, dE_U.subs(subs)/eV)))\n",
    "display(\"A factor of only order 6 means relativistic effects are definitely not negligible here.\")\n",
    "display(\"Just for fun we check how large the mass effect is here,\"\n",
    "        \" by comparing with the case $m_c=1$: {}eV\".format(dE(1,2,Z=91).subs({**subs, m_c: 1*sc.m_p})/eV))"
   ]
  },
  {
   "cell_type": "markdown",
   "metadata": {},
   "source": [
    "## Exercise 4\n",
    "\n",
    "To calculate the expectation values of any operator $\\hat{A}$ in terms of $r$, we compute the following integral:\n",
    "\n",
    "$$\\int_0^\\infty \\hat A R_{nl}(r) r^2 dr$$\n",
    "\n",
    "Using `sympy`'s `integrate`, we avoid doing many partial integrations by hand:"
   ]
  },
  {
   "cell_type": "code",
   "execution_count": 7,
   "metadata": {},
   "outputs": [
    {
     "data": {
      "image/png": "[encoded data removed]",
      "text/latex": [
       "$$\\frac{\\left(- 4 r^{3} - 6 r^{2} - 6 r - 3\\right) e^{- 2 r}}{2}$$"
      ],
      "text/plain": [
       "⎛     3      2          ⎞  -2⋅r\n",
       "⎝- 4⋅r  - 6⋅r  - 6⋅r - 3⎠⋅ℯ    \n",
       "───────────────────────────────\n",
       "               2               "
      ]
     },
     "metadata": {},
     "output_type": "display_data"
    },
    {
     "data": {
      "text/latex": [
       "$$\\langle r \\rangle _{1s} = 3/2 a_0$$"
      ],
      "text/plain": [
       "<IPython.core.display.Math object>"
      ]
     },
     "metadata": {},
     "output_type": "display_data"
    },
    {
     "data": {
      "text/latex": [
       "$$\\langle r \\rangle _{2s} = 6 a_0$$"
      ],
      "text/plain": [
       "<IPython.core.display.Math object>"
      ]
     },
     "metadata": {},
     "output_type": "display_data"
    },
    {
     "data": {
      "text/latex": [
       "$$\\langle r \\rangle _{2p} = 5 a_0$$"
      ],
      "text/plain": [
       "<IPython.core.display.Math object>"
      ]
     },
     "metadata": {},
     "output_type": "display_data"
    }
   ],
   "source": [
    "display(integrate(r * R_nl(1, 0, r, 1)**2 * r**2))\n",
    "display(Math(\"\\\\langle r \\\\rangle _{{1s}} = {} a_0\".format(integrate(r * R_nl(1, 0, r, 1)**2 * r**2, (r,0,oo)))))\n",
    "display(Math(\"\\\\langle r \\\\rangle _{{2s}} = {} a_0\".format(integrate(r * R_nl(2, 0, r, 1)**2 * r**2, (r,0,oo)))))\n",
    "display(Math(\"\\\\langle r \\\\rangle _{{2p}} = {} a_0\".format(integrate(r * R_nl(2, 1, r, 1)**2 * r**2, (r,0,oo)))))"
   ]
  },
  {
   "cell_type": "markdown",
   "metadata": {},
   "source": [
    "## Exercise 5\n",
    "For $\\langle r^{-3}\\rangle$, we only need to substitute the correct operator of course. The integrals however not neccesarily converge:"
   ]
  },
  {
   "cell_type": "code",
   "execution_count": 8,
   "metadata": {},
   "outputs": [
    {
     "data": {
      "image/png": "[encoded data removed]",
      "text/latex": [
       "$$4 \\operatorname{Ei}{\\left (2 r e^{i \\pi} \\right )}$$"
      ],
      "text/plain": [
       "    ⎛     ⅈ⋅π⎞\n",
       "4⋅Ei⎝2⋅r⋅ℯ   ⎠"
      ]
     },
     "metadata": {},
     "output_type": "display_data"
    },
    {
     "data": {
      "text/latex": [
       "$$\\langle r^{-3} \\rangle _{1s} = oo a_0$$"
      ],
      "text/plain": [
       "<IPython.core.display.Math object>"
      ]
     },
     "metadata": {},
     "output_type": "display_data"
    },
    {
     "data": {
      "text/latex": [
       "$$\\langle r^{-3} \\rangle _{2p} = 1/24 a_0$$"
      ],
      "text/plain": [
       "<IPython.core.display.Math object>"
      ]
     },
     "metadata": {},
     "output_type": "display_data"
    }
   ],
   "source": [
    "display(integrate(R_nl(1, 0, r, 1)**2 * r**-1))\n",
    "display(Math(\"\\\\langle r^{{-3}} \\\\rangle _{{1s}} = {} a_0\".format(integrate(r**-3 * R_nl(1, 0, r, 1)**2 * r**2, (r,0,oo)))))\n",
    "# The 2s case actually trips sympy... \n",
    "#display(Math(\"\\\\langle r^{{-3}} \\\\rangle _{{2s}} = {} a_0\".format(integrate(R_nl(2, 0, r, 1)**2 * r**-1, (r,0,oo)))))\n",
    "display(Math(\"\\\\langle r^{{-3}} \\\\rangle _{{2p}} = {} a_0\".format(integrate(R_nl(2, 1, r, 1)**2 * r**-1, (r,0,oo)))))\n"
   ]
  },
  {
   "cell_type": "markdown",
   "metadata": {},
   "source": [
    "## Exercise 6\n",
    "The classical turning point is where the kinetic energy is equal to the potential, where the potential is the electrostatic potential plus the effective potential due to the orbital angular momentum.\n",
    "We will work in units $eV$ and $a_0$ to plot the curves to get a general idea and then use sympy to solve analytically."
   ]
  },
  {
   "cell_type": "code",
   "execution_count": 9,
   "metadata": {},
   "outputs": [
    {
     "data": {
      "image/png": "[encoded data removed]",
      "text/latex": [
       "$$\\frac{Z^{2} \\alpha^{2} c^{2} l m_{e} \\left(l + 1\\right)}{2 r^{2}} - \\frac{Z \\alpha^{2} c^{2} m_{e}}{r}$$"
      ],
      "text/plain": [
       " 2  2  2                   2  2   \n",
       "Z ⋅α ⋅c ⋅l⋅mₑ⋅(l + 1)   Z⋅α ⋅c ⋅mₑ\n",
       "───────────────────── - ──────────\n",
       "            2               r     \n",
       "         2⋅r                      "
      ]
     },
     "metadata": {},
     "output_type": "display_data"
    },
    {
     "data": {
      "image/png": "[encoded data removed]",
      "text/latex": [
       "$$- \\frac{27.2113860258104}{r}$$"
      ],
      "text/plain": [
       "-27.2113860258104 \n",
       "──────────────────\n",
       "        r         "
      ]
     },
     "metadata": {},
     "output_type": "display_data"
    },
    {
     "data": {
      "image/png": "[encoded data removed]",
      "text/latex": [
       "$$- \\frac{27.2113860258104}{r} + \\frac{27.2113860258104}{r^{2}}$$"
      ],
      "text/plain": [
       "  27.2113860258104   27.2113860258104\n",
       "- ──────────────── + ────────────────\n",
       "         r                   2       \n",
       "                            r        "
      ]
     },
     "metadata": {},
     "output_type": "display_data"
    },
    {
     "data": {
      "image/png": "[encoded data removed]",
      "text/plain": [
       "<Figure size 432x288 with 1 Axes>"
      ]
     },
     "metadata": {
      "needs_background": "light"
     },
     "output_type": "display_data"
    }
   ],
   "source": [
    "V = -alpha*hbar*c/r + hbar**2/(2*m_e) * l*(l+1)/r**2 # alpha*hbar*c = e^2/4 pi epsilon_0\n",
    "V = V.subs({r: r*a_0})\n",
    "display(V)\n",
    "V = V.subs({Z: 1})\n",
    "\n",
    "# OK, let's first plot this thing:\n",
    "Vplot = V.subs(subs)/eV\n",
    "\n",
    "x_np = np.linspace(0.001, 30, 300)\n",
    "cmap = matplotlib.cm.get_cmap('tab20c')\n",
    "linestyles = ['-', '--', '-.', ':']\n",
    "\n",
    "for l_np in [0,1]:\n",
    "    display(Vplot.subs({l:l_np}))\n",
    "    plt.plot(x_np,lambdify(r, Vplot.subs({l:l_np}))(x_np), \n",
    "                 color=cmap(4*2-4+l_np),\n",
    "                 linestyle=linestyles[l_np],\n",
    "                 label=\"$n = {}, l = {}$\".format(2, l_np))\n",
    "    plt.legend()\n",
    "plt.ylim([-15, 5])\n",
    "plt.xlim([0, 30])\n",
    "E_2 = -1*E_nl(2, mu=m_e).subs(subs)/eV\n",
    "plt.axhline(E_2)\n",
    "plt.xlabel('$r (a_0)$');\n",
    "plt.ylabel('$E (eV)$');\n"
   ]
  },
  {
   "cell_type": "markdown",
   "metadata": {},
   "source": [
    "Now we use `sympy.sovlers.solve` to solve the equations. It solves by putting the object equal to zero, so we substract $- E_2$ and after that solve for r."
   ]
  },
  {
   "cell_type": "code",
   "execution_count": 10,
   "metadata": {},
   "outputs": [
    {
     "data": {
      "image/png": "[encoded data removed]",
      "text/latex": [
       "$$\\frac{\\alpha^{2} c^{2} m_{e} \\left(4 l \\left(l + 1\\right) + r^{2} - 8 r\\right)}{8 r^{2}}$$"
      ],
      "text/plain": [
       " 2  2    ⎛               2      ⎞\n",
       "α ⋅c ⋅mₑ⋅⎝4⋅l⋅(l + 1) + r  - 8⋅r⎠\n",
       "─────────────────────────────────\n",
       "                  2              \n",
       "               8⋅r               "
      ]
     },
     "metadata": {},
     "output_type": "display_data"
    }
   ],
   "source": [
    "from sympy.solvers import solve\n",
    "turning_point_equation = V + E_nl(2, mu=m_e)\n",
    "display(turning_point_equation.simplify())"
   ]
  },
  {
   "cell_type": "code",
   "execution_count": 11,
   "metadata": {},
   "outputs": [
    {
     "data": {
      "image/png": "[encoded data removed]",
      "text/latex": [
       "$$\\left [ - 2 \\sqrt{- l^{2} - l + 4} + 4, \\quad 2 \\sqrt{- l^{2} - l + 4} + 4\\right ]$$"
      ],
      "text/plain": [
       "⎡       ______________           ______________    ⎤\n",
       "⎢      ╱    2                   ╱    2             ⎥\n",
       "⎣- 2⋅╲╱  - l  - l + 4  + 4, 2⋅╲╱  - l  - l + 4  + 4⎦"
      ]
     },
     "execution_count": 11,
     "metadata": {},
     "output_type": "execute_result"
    }
   ],
   "source": [
    "solutions = solve(turning_point_equation, r)\n",
    "solutions"
   ]
  },
  {
   "cell_type": "code",
   "execution_count": 12,
   "metadata": {},
   "outputs": [
    {
     "data": {
      "image/png": "[encoded data removed]",
      "text/latex": [
       "$$\\left [ 0.0, \\quad 8.0\\right ]$$"
      ],
      "text/plain": [
       "[0.0, 8.0]"
      ]
     },
     "execution_count": 12,
     "metadata": {},
     "output_type": "execute_result"
    }
   ],
   "source": [
    "# Solutions for 2s, cast to float to compare with plot\n",
    "[float(sol.subs({l:0})) for sol in solutions]"
   ]
  },
  {
   "cell_type": "code",
   "execution_count": 13,
   "metadata": {},
   "outputs": [
    {
     "data": {
      "image/png": "[encoded data removed]",
      "text/latex": [
       "$$\\left [ 1.17157287525381, \\quad 6.82842712474619\\right ]$$"
      ],
      "text/plain": [
       "[1.17157287525381, 6.82842712474619]"
      ]
     },
     "execution_count": 13,
     "metadata": {},
     "output_type": "execute_result"
    }
   ],
   "source": [
    "# Solutions for 2p\n",
    "[float(sol.subs({l:1})) for sol in solutions]"
   ]
  }
 ],
 "metadata": {
  "kernelspec": {
   "display_name": "Python 3",
   "language": "python",
   "name": "python3"
  },
  "language_info": {
   "codemirror_mode": {
    "name": "ipython",
    "version": 3
   },
   "file_extension": ".py",
   "mimetype": "text/x-python",
   "name": "python",
   "nbconvert_exporter": "python",
   "pygments_lexer": "ipython3",
   "version": "3.6.6"
  }
 },
 "nbformat": 4,
 "nbformat_minor": 2
}
